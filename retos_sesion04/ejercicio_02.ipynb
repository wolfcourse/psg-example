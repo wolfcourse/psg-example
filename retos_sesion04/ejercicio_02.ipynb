{
 "cells": [
  {
   "cell_type": "markdown",
   "metadata": {},
   "source": [
    "#Ejercicio02\n",
    "----------\n",
    "| ()  () |\n",
    "|        |\n",
    "|  ====  |\n",
    "----------"
   ]
  }
 ],
 "metadata": {
  "language_info": {
   "name": "python"
  }
 },
 "nbformat": 4,
 "nbformat_minor": 2
}
