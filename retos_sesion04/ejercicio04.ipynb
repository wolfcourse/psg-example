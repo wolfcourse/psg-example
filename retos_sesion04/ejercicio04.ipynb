{
 "cells": [
  {
   "cell_type": "markdown",
   "metadata": {},
   "source": [
    "**CarrerasXD**"
   ]
  },
  {
   "cell_type": "markdown",
   "metadata": {},
   "source": [
    "**Reglas:**\n",
    "1. El jugador esta en una pista de \"n\" espacios donde cada espacio que avanza esta asociado a un color es especifico\n",
    "2. Cada que se tire el dado se avanza y se cae en un color y conforme al color hay un reto que se debe cumplir o no se podra avazar al siguiente turno (Los retos dependen de los juegadores y que tan fuerte quieren que sea el reto segun el color)\n",
    "3. El juego termina hasta que acabe el juego "
   ]
  },
  {
   "cell_type": "code",
   "execution_count": 2,
   "metadata": {},
   "outputs": [
    {
     "name": "stdout",
     "output_type": "stream",
     "text": [
      "----------------------------------------------\n",
      "|Amarillo|Rojo|Verde|Azul|Blanco|Anaranjado|  |M|\n",
      "|Amarillo|Rojo|Verde|Azul|Blanco|Anaranjado|  |E|\n",
      "|Amarillo|Rojo|Verde|Azul|Blanco|Anaranjado|  |T|\n",
      "|Amarillo|Rojo|Verde|Azul|Blanco|Anaranjado|  |A|\n",
      "----------------------------------------------\n"
     ]
    }
   ],
   "source": [
    "print(\"----------------------------------------------\")\n",
    "print(\"|Amarillo|Rojo|Verde|Azul|Blanco|Anaranjado|  |M|\")\n",
    "print(\"|Amarillo|Rojo|Verde|Azul|Blanco|Anaranjado|  |E|\")\n",
    "print(\"|Amarillo|Rojo|Verde|Azul|Blanco|Anaranjado|  |T|\")\n",
    "print(\"|Amarillo|Rojo|Verde|Azul|Blanco|Anaranjado|  |A|\")\n",
    "print(\"----------------------------------------------\")"
   ]
  },
  {
   "cell_type": "code",
   "execution_count": 3,
   "metadata": {},
   "outputs": [
    {
     "name": "stdout",
     "output_type": "stream",
     "text": [
      "----------------------------------------------\n",
      "|*|Amarillo|Rojo|Verde|Azul|Blanco|Anaranjado|  |M|\n",
      "|*|Amarillo|Rojo|Verde|Azul|Blanco|Anaranjado|  |E|\n",
      "|*|Amarillo|Rojo|Verde|Azul|Blanco|Anaranjado|  |T|\n",
      "|*|Amarillo|Rojo|Verde|Azul|Blanco|Anaranjado|  |A|\n",
      "----------------------------------------------\n"
     ]
    }
   ],
   "source": [
    "#Los asteriscos representan a los participantes podria jugarse con cualquier objeto que se adecue a la hoja\n",
    "print(\"----------------------------------------------\")\n",
    "print(\"|*|Amarillo|Rojo|Verde|Azul|Blanco|Anaranjado|  |M|\")\n",
    "print(\"|*|Amarillo|Rojo|Verde|Azul|Blanco|Anaranjado|  |E|\")\n",
    "print(\"|*|Amarillo|Rojo|Verde|Azul|Blanco|Anaranjado|  |T|\")\n",
    "print(\"|*|Amarillo|Rojo|Verde|Azul|Blanco|Anaranjado|  |A|\")\n",
    "print(\"----------------------------------------------\")\n"
   ]
  }
 ],
 "metadata": {
  "kernelspec": {
   "display_name": "Python 3",
   "language": "python",
   "name": "python3"
  },
  "language_info": {
   "codemirror_mode": {
    "name": "ipython",
    "version": 3
   },
   "file_extension": ".py",
   "mimetype": "text/x-python",
   "name": "python",
   "nbconvert_exporter": "python",
   "pygments_lexer": "ipython3",
   "version": "3.10.11"
  }
 },
 "nbformat": 4,
 "nbformat_minor": 2
}
