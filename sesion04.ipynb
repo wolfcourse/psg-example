{
 "cells": [
  {
   "cell_type": "code",
   "execution_count": 10,
   "metadata": {},
   "outputs": [
    {
     "name": "stdout",
     "output_type": "stream",
     "text": [
      "   *   \n",
      "  ***  \n",
      " ***** \n",
      "  | |  \n",
      "  | |  \n"
     ]
    }
   ],
   "source": [
    "#Code1\n",
    "print(\"   *   \")\n",
    "print(\"  ***  \")\n",
    "print(\" ***** \")\n",
    "print(\"  | |  \")\n",
    "print(\"  | |  \")"
   ]
  },
  {
   "cell_type": "code",
   "execution_count": 13,
   "metadata": {},
   "outputs": [
    {
     "name": "stdout",
     "output_type": "stream",
     "text": [
      "  -----\n",
      "| o  o |\n",
      "|      |\n",
      "|  ww  |\n",
      " -----\n"
     ]
    }
   ],
   "source": [
    "print(\"  -----\")\n",
    "print(\"| o  o |\")\n",
    "print(\"|      |\")\n",
    "print(\"|  ww  |\")\n",
    "print(\" -----\")"
   ]
  },
  {
   "cell_type": "markdown",
   "metadata": {},
   "source": [
    "#Sesion04\n",
    "- Mi primer notebook\n",
    "- Imprimir arbol\n",
    "- Crear markdowm\n",
    "- Subir a mi repositorio de GitHub\n",
    "- Dibujar un emoji😊"
   ]
  }
 ],
 "metadata": {
  "kernelspec": {
   "display_name": "Python 3",
   "language": "python",
   "name": "python3"
  },
  "language_info": {
   "codemirror_mode": {
    "name": "ipython",
    "version": 3
   },
   "file_extension": ".py",
   "mimetype": "text/x-python",
   "name": "python",
   "nbconvert_exporter": "python",
   "pygments_lexer": "ipython3",
   "version": "3.10.11"
  }
 },
 "nbformat": 4,
 "nbformat_minor": 2
}
